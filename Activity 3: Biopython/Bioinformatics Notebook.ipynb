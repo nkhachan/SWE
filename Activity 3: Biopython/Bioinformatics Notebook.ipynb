{
 "cells": [
  {
   "cell_type": "markdown",
   "metadata": {},
   "source": [
    "## Bioinformatics Notebook \n",
    "\n",
    "**We are going to make a small connection between computer science and biology. As we learnt earlier, all genomes consist of only 4 different molecules. A lot of bioinformatics is finding ways to find patterns using high computing power. We are going to represent our four molecules with the letters A, T, G, and C as we learnt earlier. The line of code below creates a \"string of dna\".**"
   ]
  },
  {
   "cell_type": "code",
   "execution_count": null,
   "metadata": {
    "collapsed": true
   },
   "outputs": [],
   "source": [
    "ourDna = list(\"AGAT\")\n",
    "print (ourDna)"
   ]
  },
  {
   "cell_type": "markdown",
   "metadata": {},
   "source": [
    "** Go ahead and use the format that we used above to create a list of dna that has your name that is at least 12 nucleotides long and print it out.**"
   ]
  },
  {
   "cell_type": "code",
   "execution_count": null,
   "metadata": {
    "collapsed": true
   },
   "outputs": [],
   "source": []
  },
  {
   "cell_type": "markdown",
   "metadata": {},
   "source": [
    "**A simple example of information that we might want to find about our nucleotides is how many of each type we have. As you might know our DNA exists in pairs where A and T are together and G and C are together. A and T together form what is called a double bond whereas G and C form a triple bond. Naturally you can tell that G and C are a stronger bond, and as a result DNA that has more of these G and C nucleotides will make the DNA more stable. We are going to find out how to count how many of each type of our nucleotides. Using this information we get a metric called the GC ratio which is: (G + C)/(Total number of nucleotides)**"
   ]
  },
  {
   "cell_type": "markdown",
   "metadata": {},
   "source": [
    "**To start off, lets find a way to go through our entire list and check each element. A simple way to \"loop\" through a list is using something called a for loop. Using this method we will be able to do things to each and every element. Here is a simple example of a loop**\n",
    "\n",
    "Disclaimer: the lines that start with a # are just comments, not actual code. They are just meant to explain each line of instruction. "
   ]
  },
  {
   "cell_type": "code",
   "execution_count": null,
   "metadata": {
    "collapsed": true
   },
   "outputs": [],
   "source": [
    "# Here we will create a really simple string of nucleotides \n",
    "ourDna = list(\"GATC\")\n",
    "\n",
    "# This is a loop which will allow us to go through each of the nucleotides in a string\n",
    "# The word \"nucleotide\" used in the next line is just a variable or place holder and can be anything as long\n",
    "# as it is the same as what is on the next line.\n",
    "for nucleotide in ourDna:\n",
    "    print (nucleotide)"
   ]
  },
  {
   "cell_type": "markdown",
   "metadata": {},
   "source": [
    "**Hopefully above you saw that each of the individual nucleotides were printed each time. Now that we can access each nucleotide in the string, we are going to find a way to check which one it is. The way we are going to check if two things are equal is use a \"==\" symbol.**"
   ]
  },
  {
   "cell_type": "code",
   "execution_count": null,
   "metadata": {
    "collapsed": true
   },
   "outputs": [],
   "source": [
    "ourDna = list(\"GATC\")\n",
    " \n",
    "# We are merely copying the code above, but this time if we get a Thymine nucleotide, we are going to print out \n",
    "# a message saying that.\n",
    "for nucleotide in ourDna:\n",
    "    if nucleotide == \"T\":\n",
    "        print (\"Yay we found some Thymine\")"
   ]
  },
  {
   "cell_type": "markdown",
   "metadata": {},
   "source": [
    "**Now that we understand how to check each of the elements of a string of DNA. Try printing out a message for each of the nucleotides using your longer string that you made near the top of this notebook.**"
   ]
  },
  {
   "cell_type": "code",
   "execution_count": null,
   "metadata": {
    "collapsed": true
   },
   "outputs": [],
   "source": []
  },
  {
   "cell_type": "markdown",
   "metadata": {},
   "source": [
    "**Let's try to count how many of each of the nucleotides using the same format. We are going to switch out the line that prints it **"
   ]
  },
  {
   "cell_type": "code",
   "execution_count": null,
   "metadata": {
    "collapsed": true
   },
   "outputs": [],
   "source": [
    "# All these variables should hold how much of each of the nucleotides are in the string\n",
    "countG = 0\n",
    "countA = 0\n",
    "countT = 0\n",
    "countC = 0\n",
    "\n",
    "#####################################\n",
    "#\n",
    "# Make your for loop here\n",
    "# Rather than printing out a message\n",
    "# when you encounter a nucletoide\n",
    "# try adding one more to your count \n",
    "# Hint : adding one to a number \n",
    "# looks like this :\n",
    "#   number = 0   Here number is zero\n",
    "#   number+=1     Here we have added one to number\n",
    "#   number+=5     Here we have added five to number\n",
    "#\n",
    "#####################################\n",
    "\n",
    "#This will print out how many of each nucleotide is in the string of DNA.\n",
    "print (\"The number of Guanine nucleotides is %d\"%countG)\n",
    "print (\"The number of Adenine nucleotides is %d\"%countA)\n",
    "print (\"The number of Thymine nucleotides is %d\"%countT)\n",
    "print (\"The number of Cytosine nucleotides is %d\"%countC)"
   ]
  },
  {
   "cell_type": "markdown",
   "metadata": {},
   "source": [
    "**Our goal was to figure out what the GC ratio is. We have all the information that we need to make that ratio**\n",
    "\n",
    "Hint : In order to add use the \"+\" sign and to divide use the \"/\" sign. Also remember your algebra order of operation and use parenthesis \"(\" and \")\" to maintain that order. "
   ]
  },
  {
   "cell_type": "code",
   "execution_count": null,
   "metadata": {
    "collapsed": true
   },
   "outputs": [],
   "source": [
    "gc_ratio = 9\n",
    "\n",
    "# Set the gc_ratio here, use the countG, countA, countT, and countC variables\n",
    "# in order to find it."
   ]
  },
  {
   "cell_type": "markdown",
   "metadata": {},
   "source": [
    "**Obviously with small pieces of code it seems silly to do counting like that, but it becomes imperitive with longer strands. Below we are going to work with strings that are 600,000 nucleotides long**"
   ]
  },
  {
   "cell_type": "code",
   "execution_count": 1,
   "metadata": {
    "collapsed": true
   },
   "outputs": [],
   "source": [
    "# This code isn't really important, but it essentially generates a really long random\n",
    "# string of DNA. \n",
    "import random\n",
    "def generate_string(N, alphabet='ACGT'):\n",
    "    return ''.join([random.choice(alphabet) for i in range(N)])\n",
    "dna1 = generate_string(600000)\n",
    "dna2 = generate_string(600000)\n",
    "\n",
    "###############################################################\n",
    "#\n",
    "# In this space, reuise the code that you wrote before\n",
    "# and try to compare these two long lines using that code\n",
    "# \n",
    "# Which piece dna1 or dna2 is more stable?\n",
    "#\n",
    "###############################################################"
   ]
  },
  {
   "cell_type": "markdown",
   "metadata": {},
   "source": [
    "**Often times in a high-level language (one that has a lot of features to make the programmer's life easier) like Python, functionality is already built in and it isn't necessary to write a lot of code from scratch. In this case you can do the following:**"
   ]
  },
  {
   "cell_type": "code",
   "execution_count": 7,
   "metadata": {},
   "outputs": [
    {
     "name": "stdout",
     "output_type": "stream",
     "text": [
      "2\n"
     ]
    }
   ],
   "source": [
    "# Create our basic string\n",
    "ourDna = list(\"GATG\")\n",
    "\n",
    "# Count the number of G using \"count\" \n",
    "countG = ourDna.count(\"G\")\n",
    "print(countG);"
   ]
  },
  {
   "cell_type": "markdown",
   "metadata": {},
   "source": [
    "**Using this we are going to find the GC ratio of yeast. All the DNA is at the following url **"
   ]
  },
  {
   "cell_type": "code",
   "execution_count": 9,
   "metadata": {},
   "outputs": [
    {
     "data": {
      "text/plain": [
       "45765"
      ]
     },
     "execution_count": 9,
     "metadata": {},
     "output_type": "execute_result"
    }
   ],
   "source": [
    "def read_dnafile(filename):\n",
    "    lines = open(filename, 'r').readlines()\n",
    "    # Remove newlines in each line (line.strip()) and join\n",
    "    dna = ''.join([line.strip() for line in lines])\n",
    "    return dna\n",
    "\n",
    "# Stores all the nucleotides\n",
    "ourDna = read_dnafile(\"YeastDNA.txt\")\n",
    "\n",
    "# Using the count functionality from above.\n",
    "# Find the GC ratio of Yeast"
   ]
  },
  {
   "cell_type": "markdown",
   "metadata": {},
   "source": [
    "**Another example of something that you can do in code that represents a physical phenonmenon is mutate a particular nucleotide. In genetics, a mutation is a permanent change in DNA which can range from a single nucleotide to much larger segments. We are going to try out mutating a simple DNA strand.**"
   ]
  },
  {
   "cell_type": "code",
   "execution_count": 2,
   "metadata": {},
   "outputs": [],
   "source": [
    "import random\n",
    "ourDna = list(\"GATG\")\n",
    "\n",
    "# Choose how many mutations you will make, from 0 mutations to \n",
    "# The total length of the string.\n",
    "numMutations = random.randint(0, len(ourDna) - 1)\n",
    "\n",
    "# Do the mutation as many times as was randomly selected above.\n",
    "for i in range(numMutations):\n",
    "    # Choose a random base-pair to mutate or change\n",
    "    # This is done by choosing a random number from 0 \n",
    "    # to the length of your string of DNA\n",
    "    # That is the random position of DNA that will be changed\n",
    "    mutation_loc = random.randint(0, len(ourDna) - 1)\n",
    "    \n",
    "    # Now we will replace what was at that location in the DNA string \n",
    "    # with some random nucleotide \n",
    "    ourDna[mutation_loc] = random.choice(list('ATCG'))"
   ]
  },
  {
   "cell_type": "markdown",
   "metadata": {},
   "source": [
    "If you have more time, check out Biopython. It is a package that allows more bioinfotics specific functions. \n",
    "http://biopython.org/"
   ]
  },
  {
   "cell_type": "code",
   "execution_count": null,
   "metadata": {
    "collapsed": true
   },
   "outputs": [],
   "source": [
    "import sys\n",
    "!{sys.executable} -m pip install biopython\n",
    "from Bio.Seq import Seq "
   ]
  },
  {
   "cell_type": "code",
   "execution_count": null,
   "metadata": {
    "collapsed": true
   },
   "outputs": [],
   "source": [
    "my_seq = Seq(\"AGTACACTGGT\")\n",
    "print (my_seq)"
   ]
  },
  {
   "cell_type": "code",
   "execution_count": null,
   "metadata": {
    "collapsed": true
   },
   "outputs": [],
   "source": []
  },
  {
   "cell_type": "code",
   "execution_count": null,
   "metadata": {
    "collapsed": true
   },
   "outputs": [],
   "source": []
  }
 ],
 "metadata": {
  "kernelspec": {
   "display_name": "Python 3",
   "language": "python",
   "name": "python3"
  },
  "language_info": {
   "codemirror_mode": {
    "name": "ipython",
    "version": 3
   },
   "file_extension": ".py",
   "mimetype": "text/x-python",
   "name": "python",
   "nbconvert_exporter": "python",
   "pygments_lexer": "ipython3",
   "version": "3.6.2"
  }
 },
 "nbformat": 4,
 "nbformat_minor": 2
}
